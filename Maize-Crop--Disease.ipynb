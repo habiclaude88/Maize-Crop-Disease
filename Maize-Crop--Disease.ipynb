{
  "cells": [
    {
      "cell_type": "markdown",
      "metadata": {
        "id": "vVba3wGWq_9z"
      },
      "source": [
        "We import the dataset from github"
      ]
    },
    {
      "cell_type": "code",
      "execution_count": null,
      "metadata": {
        "colab": {
          "base_uri": "https://localhost:8080/"
        },
        "id": "0NwvGX3kjif0",
        "outputId": "45e28ad9-8a57-4c87-c594-cdd12b75925d"
      },
      "outputs": [
        {
          "name": "stdout",
          "output_type": "stream",
          "text": [
            "Cloning into 'Maize_Dataset'...\n",
            "remote: Enumerating objects: 4923, done.\u001b[K\n",
            "remote: Counting objects: 100% (69/69), done.\u001b[K\n",
            "remote: Compressing objects: 100% (28/28), done.\u001b[K\n",
            "remote: Total 4923 (delta 42), reused 68 (delta 41), pack-reused 4854\u001b[K\n",
            "Receiving objects: 100% (4923/4923), 162.57 MiB | 20.60 MiB/s, done.\n",
            "Resolving deltas: 100% (96/96), done.\n"
          ]
        }
      ],
      "source": [
        "!git clone https://github.com/Juru-Systems/Maize_Dataset.git"
      ]
    },
    {
      "cell_type": "code",
      "execution_count": null,
      "metadata": {
        "id": "eZNRwbp_OWLI"
      },
      "outputs": [],
      "source": [
        "#import the data augmentatiion script\n",
        "from Maize_Dataset import maize_dataset"
      ]
    },
    {
      "cell_type": "code",
      "execution_count": null,
      "metadata": {
        "id": "w0NXNw1UZMYN"
      },
      "outputs": [],
      "source": [
        "!rm -rf /content/Maize_Dataset/temp"
      ]
    },
    {
      "cell_type": "markdown",
      "metadata": {
        "id": "o_Xj-nKjrLXZ"
      },
      "source": []
    },
    {
      "cell_type": "code",
      "execution_count": null,
      "metadata": {
        "id": "X7gr3ZHYOcyK"
      },
      "outputs": [],
      "source": [
        "#Compile the data augmentation instance\n",
        "\n",
        "#class encoding: binary or class\n",
        "#class encoding means we split images into their respective folers i.e imgs/blight, imgs/gray_leaf....imgs/healthy.\n",
        "#binary encoding means we split images into good or bad i.e: the healthy foler goes into it's own folder while all others go into the unhealthy ones.\n",
        "\n",
        "#ratio is by [a,b,c] a is the training imgs, b is the validation folder and last is the test folder. All of them contains all the classes/binary folder in rationed way respectively.\n",
        "\n",
        "#Since the healthy class of imgs are less than all the other classes. We can set the augmentation script to on;y create other classes to the healthy class\n",
        "b = maize_dataset.compile(class_encoding='class', ratio=[.7,.2,.1], equal_ratio_to_healthy=True)  "
      ]
    },
    {
      "cell_type": "code",
      "execution_count": null,
      "metadata": {
        "colab": {
          "base_uri": "https://localhost:8080/"
        },
        "id": "XtlI81gXPClk",
        "outputId": "0d17f448-7cb0-4eaf-a339-1b50976b0d0e"
      },
      "outputs": [
        {
          "name": "stdout",
          "output_type": "stream",
          "text": [
            "train folder\n",
            "    |--class gray_leaf_spot\n",
            "          |--contains 401 Original images\n",
            "          |--contains 2406 Generic images\n",
            "    |--class healthy\n",
            "          |--contains 813 Original images\n",
            "          |--contains 4878 Generic images\n",
            "    |--class blight\n",
            "          |--contains 802 Original images\n",
            "          |--contains 4812 Generic images\n",
            "    |--class common_rust\n",
            "          |--contains 914 Original images\n",
            "          |--contains 5484 Generic images\n",
            "val folder\n",
            "    |--class gray_leaf_spot\n",
            "          |--contains 114 Original images\n",
            "          |--contains 0 Generic images\n",
            "    |--class healthy\n",
            "          |--contains 232 Original images\n",
            "          |--contains 0 Generic images\n",
            "    |--class blight\n",
            "          |--contains 229 Original images\n",
            "          |--contains 0 Generic images\n",
            "    |--class common_rust\n",
            "          |--contains 261 Original images\n",
            "          |--contains 0 Generic images\n",
            "test folder\n",
            "    |--class gray_leaf_spot\n",
            "          |--contains 58 Original images\n",
            "          |--contains 0 Generic images\n",
            "    |--class healthy\n",
            "          |--contains 117 Original images\n",
            "          |--contains 0 Generic images\n",
            "    |--class blight\n",
            "          |--contains 115 Original images\n",
            "          |--contains 0 Generic images\n",
            "    |--class common_rust\n",
            "          |--contains 131 Original images\n",
            "          |--contains 0 Generic images\n"
          ]
        }
      ],
      "source": [
        "#Visualizing the output of the augmentation\n",
        "b.visualise_tree"
      ]
    },
    {
      "cell_type": "code",
      "execution_count": null,
      "metadata": {
        "colab": {
          "base_uri": "https://localhost:8080/"
        },
        "id": "HWggfTQFcOHn",
        "outputId": "04c8c232-4271-4561-dedd-0ea1b4680797"
      },
      "outputs": [
        {
          "name": "stdout",
          "output_type": "stream",
          "text": [
            "Looking in indexes: https://pypi.org/simple, https://us-python.pkg.dev/colab-wheels/public/simple/\n",
            "Requirement already satisfied: keras in /usr/local/lib/python3.8/dist-packages (2.9.0)\n"
          ]
        }
      ],
      "source": [
        "!pip install keras "
      ]
    },
    {
      "cell_type": "code",
      "execution_count": null,
      "metadata": {
        "id": "j-K7O5k0_-vX"
      },
      "outputs": [],
      "source": [
        "import numpy as np #Numpy is library to perform matrix/vector calculations\n",
        "import tensorflow as tf\n",
        "from Maize_Dataset import maize_dataset\n",
        "from matplotlib import pyplot as plt\n",
        "import cv2 #computer vision package \n",
        "from shutil import move\n",
        "import os #operating system api\n",
        "from tensorflow.keras.preprocessing.image import ImageDataGenerator\n",
        "from tensorflow.keras.utils import load_img, img_to_array\n",
        "from tensorflow.keras import models\n",
        "from tensorflow.keras import layers #import the \n",
        "from tensorflow.keras.applications import VGG16 #the model\n",
        "from tensorflow.keras.optimizers import Adam\n",
        "import json #json library"
      ]
    },
    {
      "cell_type": "code",
      "execution_count": null,
      "metadata": {
        "id": "UKrgKYfxbuX9"
      },
      "outputs": [],
      "source": [
        "\n",
        "\n",
        "train_data_generator =  ImageDataGenerator(rotation_range=40,\n",
        "                                width_shift_range=0.2, #shift sidways randomly\n",
        "                                height_shift_range=0.2, #shift upwise randomly\n",
        "                                rescale=1./255, #random rescale\n",
        "                                shear_range=0.2, \n",
        "                                zoom_range=0.2, #random zoom\n",
        "                                horizontal_flip=True, #horizontal flip/rotation\n",
        "                                fill_mode='nearest') #if the shifted sideways fill the gap with the nearest pixels\n",
        "\n",
        "\n",
        "#You dont need to augment the validation data\n",
        "val_data_generator =  ImageDataGenerator(rescale=1./255,)"
      ]
    },
    {
      "cell_type": "code",
      "execution_count": null,
      "metadata": {
        "colab": {
          "base_uri": "https://localhost:8080/"
        },
        "id": "WLHgcX9BlmVs",
        "outputId": "ca3588ad-5401-47fd-b943-518656db2161"
      },
      "outputs": [
        {
          "name": "stdout",
          "output_type": "stream",
          "text": [
            "Found 20510 images belonging to 4 classes.\n"
          ]
        }
      ],
      "source": [
        "train_dataset = train_data_generator.flow_from_directory(\n",
        "                                    \"Maize_Dataset/temp/train/\",\n",
        "                                    target_size = (224, 224),\n",
        "                                    class_mode = \"categorical\",\n",
        "                                    batch_size = 32,)"
      ]
    },
    {
      "cell_type": "code",
      "execution_count": null,
      "metadata": {
        "colab": {
          "base_uri": "https://localhost:8080/"
        },
        "id": "IOCHzBJ8tCmA",
        "outputId": "b9cabcd1-4da5-4c77-bdfa-ad3bffacbace"
      },
      "outputs": [
        {
          "name": "stdout",
          "output_type": "stream",
          "text": [
            "Found 836 images belonging to 4 classes.\n"
          ]
        }
      ],
      "source": [
        "#Create val pipeline\n",
        "val_dataset = val_data_generator.flow_from_directory(\n",
        "                                    \"Maize_Dataset/temp/val/\",\n",
        "                                    target_size = (224, 224),\n",
        "                                    class_mode = \"categorical\",\n",
        "                                    batch_size = 32,)"
      ]
    },
    {
      "cell_type": "code",
      "execution_count": null,
      "metadata": {
        "colab": {
          "base_uri": "https://localhost:8080/"
        },
        "id": "-2jaGEMpPqxf",
        "outputId": "32828e10-79aa-483c-a652-e7f19436ff67"
      },
      "outputs": [
        {
          "name": "stdout",
          "output_type": "stream",
          "text": [
            "Downloading data from https://storage.googleapis.com/tensorflow/keras-applications/vgg16/vgg16_weights_tf_dim_ordering_tf_kernels.h5\n",
            "553467096/553467096 [==============================] - 4s 0us/step\n"
          ]
        }
      ],
      "source": [
        "#initiate the model\n",
        "a = VGG16(weights='imagenet',include_top=True,input_shape=(224, 224, 3))"
      ]
    },
    {
      "cell_type": "code",
      "execution_count": null,
      "metadata": {
        "colab": {
          "base_uri": "https://localhost:8080/"
        },
        "id": "Z_FceKfr8cFK",
        "outputId": "e6ee9132-d433-4cf0-f2c0-325cd5ce46b9"
      },
      "outputs": [
        {
          "name": "stdout",
          "output_type": "stream",
          "text": [
            "Model: \"vgg16\"\n",
            "_________________________________________________________________\n",
            " Layer (type)                Output Shape              Param #   \n",
            "=================================================================\n",
            " input_1 (InputLayer)        [(None, 224, 224, 3)]     0         \n",
            "                                                                 \n",
            " block1_conv1 (Conv2D)       (None, 224, 224, 64)      1792      \n",
            "                                                                 \n",
            " block1_conv2 (Conv2D)       (None, 224, 224, 64)      36928     \n",
            "                                                                 \n",
            " block1_pool (MaxPooling2D)  (None, 112, 112, 64)      0         \n",
            "                                                                 \n",
            " block2_conv1 (Conv2D)       (None, 112, 112, 128)     73856     \n",
            "                                                                 \n",
            " block2_conv2 (Conv2D)       (None, 112, 112, 128)     147584    \n",
            "                                                                 \n",
            " block2_pool (MaxPooling2D)  (None, 56, 56, 128)       0         \n",
            "                                                                 \n",
            " block3_conv1 (Conv2D)       (None, 56, 56, 256)       295168    \n",
            "                                                                 \n",
            " block3_conv2 (Conv2D)       (None, 56, 56, 256)       590080    \n",
            "                                                                 \n",
            " block3_conv3 (Conv2D)       (None, 56, 56, 256)       590080    \n",
            "                                                                 \n",
            " block3_pool (MaxPooling2D)  (None, 28, 28, 256)       0         \n",
            "                                                                 \n",
            " block4_conv1 (Conv2D)       (None, 28, 28, 512)       1180160   \n",
            "                                                                 \n",
            " block4_conv2 (Conv2D)       (None, 28, 28, 512)       2359808   \n",
            "                                                                 \n",
            " block4_conv3 (Conv2D)       (None, 28, 28, 512)       2359808   \n",
            "                                                                 \n",
            " block4_pool (MaxPooling2D)  (None, 14, 14, 512)       0         \n",
            "                                                                 \n",
            " block5_conv1 (Conv2D)       (None, 14, 14, 512)       2359808   \n",
            "                                                                 \n",
            " block5_conv2 (Conv2D)       (None, 14, 14, 512)       2359808   \n",
            "                                                                 \n",
            " block5_conv3 (Conv2D)       (None, 14, 14, 512)       2359808   \n",
            "                                                                 \n",
            " block5_pool (MaxPooling2D)  (None, 7, 7, 512)         0         \n",
            "                                                                 \n",
            " flatten (Flatten)           (None, 25088)             0         \n",
            "                                                                 \n",
            " fc1 (Dense)                 (None, 4096)              102764544 \n",
            "                                                                 \n",
            " fc2 (Dense)                 (None, 4096)              16781312  \n",
            "                                                                 \n",
            " predictions (Dense)         (None, 1000)              4097000   \n",
            "                                                                 \n",
            "=================================================================\n",
            "Total params: 138,357,544\n",
            "Trainable params: 138,357,544\n",
            "Non-trainable params: 0\n",
            "_________________________________________________________________\n"
          ]
        }
      ],
      "source": [
        "#visual summary of the model\n",
        "a.summary()"
      ]
    },
    {
      "cell_type": "code",
      "execution_count": null,
      "metadata": {
        "colab": {
          "base_uri": "https://localhost:8080/"
        },
        "id": "W_n_uCyU8-Bq",
        "outputId": "bbbd9257-f0cd-46f5-951b-b372dbbd449f"
      },
      "outputs": [
        {
          "data": {
            "text/plain": [
              "(None, 224, 224, 3)"
            ]
          },
          "execution_count": 13,
          "metadata": {},
          "output_type": "execute_result"
        }
      ],
      "source": [
        "#model input shape\n",
        "a.input_shape"
      ]
    },
    {
      "cell_type": "code",
      "execution_count": null,
      "metadata": {
        "id": "SrOmgeMdtT4o"
      },
      "outputs": [],
      "source": [
        "initial_lr = 0.00001 #learning rate\n",
        "epochs=20 #number of epochs\n",
        "def _model():\n",
        "    conv_base = VGG16(weights='imagenet',include_top=True,input_shape=(224, 224, 3)) #base model with input \n",
        "    model = models.Sequential()\n",
        "    model.add(conv_base)\n",
        "    model.add(layers.Flatten())\n",
        "    model.add(layers.Dense(units=4096,activation=\"relu\"))\n",
        "    model.add(layers.Dropout(0.3))\n",
        "    model.add(layers.Dense(2000, activation = \"relu\"))\n",
        "    model.add(layers.Dropout(0.3))\n",
        "    model.add(layers.Dense(4, activation = 'softmax'))\n",
        "    \n",
        "    model.compile(loss='categorical_crossentropy',optimizer = Adam(learning_rate = initial_lr, decay = initial_lr/epochs),\n",
        "              metrics=['accuracy'])\n",
        "    return model"
      ]
    },
    {
      "cell_type": "code",
      "execution_count": null,
      "metadata": {
        "id": "DcDVM0ry8a0C"
      },
      "outputs": [],
      "source": []
    },
    {
      "cell_type": "code",
      "execution_count": null,
      "metadata": {
        "colab": {
          "base_uri": "https://localhost:8080/"
        },
        "id": "evKotDu1t-Qt",
        "outputId": "acca54dc-811a-4bc5-8d9f-3cefa8f0e7a9"
      },
      "outputs": [
        {
          "name": "stdout",
          "output_type": "stream",
          "text": [
            "Model: \"sequential\"\n",
            "_________________________________________________________________\n",
            " Layer (type)                Output Shape              Param #   \n",
            "=================================================================\n",
            " vgg16 (Functional)          (None, 1000)              138357544 \n",
            "                                                                 \n",
            " flatten (Flatten)           (None, 1000)              0         \n",
            "                                                                 \n",
            " dense (Dense)               (None, 4096)              4100096   \n",
            "                                                                 \n",
            " dropout (Dropout)           (None, 4096)              0         \n",
            "                                                                 \n",
            " dense_1 (Dense)             (None, 2000)              8194000   \n",
            "                                                                 \n",
            " dropout_1 (Dropout)         (None, 2000)              0         \n",
            "                                                                 \n",
            " dense_2 (Dense)             (None, 4)                 8004      \n",
            "                                                                 \n",
            "=================================================================\n",
            "Total params: 150,659,644\n",
            "Trainable params: 150,659,644\n",
            "Non-trainable params: 0\n",
            "_________________________________________________________________\n"
          ]
        }
      ],
      "source": [
        "model=_model()\n",
        "model.summary()"
      ]
    },
    {
      "cell_type": "code",
      "execution_count": null,
      "metadata": {
        "id": "yQ76quFp3yc9"
      },
      "outputs": [],
      "source": [
        "# class LossHistory(tf.keras.callbacks.Callback):\n",
        "#     def on_train_begin(self, logs={}):\n",
        "#         self.metrics_json = {}\n",
        "\n",
        "#     def on_batch_end(self, batch, logs={}):\n",
        "#         steps = list(range(0,555, 50))\n",
        "#         self.metrics_json[batch] = {\n",
        "#             'loss' : logs.get('loss'),\n",
        "#             'acc' : logs.get('accuracy')}\n",
        "#         if batch in steps:\n",
        "#           self.metrics_json[int(batch)]['val'] = self.model.evaluate(val_dataset)\n",
        "\n",
        "\n",
        "#     def on_train_end(self, logs={}, **kwargs):\n",
        "#       out_file = open(\"batch_metrics.json\", \"w+\")\n",
        "#       json.dump(self.metrics_json, out_file, indent = 6)\n",
        "#       out_file.close()"
      ]
    },
    {
      "cell_type": "code",
      "execution_count": null,
      "metadata": {
        "id": "ABRGKKpF1IDg"
      },
      "outputs": [],
      "source": []
    },
    {
      "cell_type": "code",
      "execution_count": null,
      "metadata": {
        "id": "-4CayzpDwnxn"
      },
      "outputs": [],
      "source": []
    },
    {
      "cell_type": "code",
      "execution_count": null,
      "metadata": {
        "colab": {
          "background_save": true,
          "base_uri": "https://localhost:8080/"
        },
        "id": "PLJZrAyauBmv",
        "outputId": "a85da6b8-3b97-4fbe-cc31-baf72c7f863b"
      },
      "outputs": [
        {
          "name": "stdout",
          "output_type": "stream",
          "text": [
            "Epoch 1/10\n",
            "641/641 [==============================] - 389s 580ms/step - loss: 0.6890 - accuracy: 0.7669 - val_loss: 0.3682 - val_accuracy: 0.8457\n",
            "Epoch 2/10\n",
            "641/641 [==============================] - 355s 553ms/step - loss: 0.3495 - accuracy: 0.8439 - val_loss: 0.2796 - val_accuracy: 0.8517\n",
            "Epoch 3/10\n",
            "641/641 [==============================] - 354s 551ms/step - loss: 0.2181 - accuracy: 0.9204 - val_loss: 0.1771 - val_accuracy: 0.9330\n",
            "Epoch 4/10\n",
            "641/641 [==============================] - 352s 548ms/step - loss: 0.1475 - accuracy: 0.9490 - val_loss: 0.1449 - val_accuracy: 0.9498\n",
            "Epoch 5/10\n",
            "641/641 [==============================] - 353s 551ms/step - loss: 0.1225 - accuracy: 0.9571 - val_loss: 0.1495 - val_accuracy: 0.9498\n",
            "Epoch 6/10\n",
            "641/641 [==============================] - 352s 549ms/step - loss: 0.1019 - accuracy: 0.9644 - val_loss: 0.1385 - val_accuracy: 0.9522\n",
            "Epoch 7/10\n",
            "641/641 [==============================] - 351s 547ms/step - loss: 0.0876 - accuracy: 0.9703 - val_loss: 0.1433 - val_accuracy: 0.9533\n",
            "Epoch 8/10\n",
            "641/641 [==============================] - 351s 548ms/step - loss: 0.0813 - accuracy: 0.9715 - val_loss: 0.1151 - val_accuracy: 0.9569\n",
            "Epoch 9/10\n",
            "641/641 [==============================] - 353s 551ms/step - loss: 0.0688 - accuracy: 0.9747 - val_loss: 0.1354 - val_accuracy: 0.9545\n",
            "Epoch 10/10\n",
            "641/641 [==============================] - 352s 548ms/step - loss: 0.0624 - accuracy: 0.9775 - val_loss: 0.1270 - val_accuracy: 0.9629\n"
          ]
        }
      ],
      "source": [
        "#train the model\n",
        "\n",
        "history = model.fit(\n",
        "      train_dataset, #train dataset includes input and target(x & y)\n",
        "      batch_size=32,\n",
        "      epochs=10, \n",
        "      verbose=1,\n",
        "      validation_data=val_dataset #test the model accuracy while training without using the actual test datasets.\n",
        "      ) "
      ]
    },
    {
      "cell_type": "code",
      "execution_count": null,
      "metadata": {
        "colab": {
          "background_save": true
        },
        "id": "5vfuCSyJARNW",
        "outputId": "2fb208de-f633-485c-e826-6cfeeffb7bf0"
      },
      "outputs": [
        {
          "data": {
            "text/plain": [
              "{'loss': [0.6889923810958862,\n",
              "  0.3495279550552368,\n",
              "  0.21805931627750397,\n",
              "  0.14746390283107758,\n",
              "  0.12245156615972519,\n",
              "  0.10186389833688736,\n",
              "  0.08755031228065491,\n",
              "  0.08134409785270691,\n",
              "  0.06883163750171661,\n",
              "  0.06238321587443352],\n",
              " 'accuracy': [0.7669429779052734,\n",
              "  0.8439297676086426,\n",
              "  0.9204290509223938,\n",
              "  0.9490004777908325,\n",
              "  0.9570940732955933,\n",
              "  0.9643588662147522,\n",
              "  0.9703071713447571,\n",
              "  0.9715260863304138,\n",
              "  0.9746952652931213,\n",
              "  0.9774743914604187],\n",
              " 'val_loss': [0.36817020177841187,\n",
              "  0.2795947194099426,\n",
              "  0.17709721624851227,\n",
              "  0.14492875337600708,\n",
              "  0.1494714915752411,\n",
              "  0.13852158188819885,\n",
              "  0.14327310025691986,\n",
              "  0.11505045741796494,\n",
              "  0.13538940250873566,\n",
              "  0.12703651189804077],\n",
              " 'val_accuracy': [0.8456937670707703,\n",
              "  0.8516746163368225,\n",
              "  0.9330143332481384,\n",
              "  0.9497607946395874,\n",
              "  0.9497607946395874,\n",
              "  0.9521530866622925,\n",
              "  0.9533492922782898,\n",
              "  0.9569377899169922,\n",
              "  0.9545454382896423,\n",
              "  0.9629186391830444]}"
            ]
          },
          "execution_count": 18,
          "metadata": {},
          "output_type": "execute_result"
        }
      ],
      "source": [
        "history.history"
      ]
    },
    {
      "cell_type": "code",
      "execution_count": null,
      "metadata": {
        "colab": {
          "background_save": true
        },
        "id": "pCNlBnLU_NRx",
        "outputId": "2a6a7770-9727-438b-d4a5-8c7ec0c1a544"
      },
      "outputs": [
        {
          "data": {
            "image/png": "[encoded data removed]",
            "text/plain": [
              "<Figure size 432x288 with 1 Axes>"
            ]
          },
          "metadata": {},
          "output_type": "display_data"
        }
      ],
      "source": [
        "plt.plot(history.history['accuracy'])\n",
        "plt.plot(history.history['val_accuracy'])\n",
        "plt.plot(history.history['loss'])\n",
        "plt.plot(history.history['val_loss'])\n",
        "plt.title('model accuracy')\n",
        "plt.ylabel('accuracy')\n",
        "plt.xlabel('epoch')\n",
        "plt.legend(['train', 'val'], loc='upper left')\n",
        "plt.show()"
      ]
    },
    {
      "cell_type": "code",
      "execution_count": null,
      "metadata": {
        "colab": {
          "background_save": true
        },
        "id": "jtgrZlQY-Z04",
        "outputId": "e4e99f99-b92c-4072-a0e2-72f5bcecaac9"
      },
      "outputs": [
        {
          "name": "stderr",
          "output_type": "stream",
          "text": [
            "<ipython-input-20-7f22f38ca42c>:3: UserWarning: `Model.evaluate_generator` is deprecated and will be removed in a future version. Please use `Model.evaluate`, which supports generators.\n",
            "  train_loss, train_acc = model.evaluate_generator(train_dataset, steps=9)\n",
            "<ipython-input-20-7f22f38ca42c>:4: UserWarning: `Model.evaluate_generator` is deprecated and will be removed in a future version. Please use `Model.evaluate`, which supports generators.\n",
            "  validation_loss, val_acc = model.evaluate_generator(val_dataset, steps=9)\n"
          ]
        },
        {
          "name": "stdout",
          "output_type": "stream",
          "text": [
            "Train: 0.983, Test: 0.955\n"
          ]
        }
      ],
      "source": [
        "#Evaluate the model.\n",
        "\n",
        "train_loss, train_acc = model.evaluate_generator(train_dataset, steps=9)\n",
        "validation_loss, val_acc = model.evaluate_generator(val_dataset, steps=9)\n",
        "print('Train: %.3f, Test: %.3f' % (train_acc, val_acc))"
      ]
    },
    {
      "cell_type": "code",
      "execution_count": null,
      "metadata": {
        "colab": {
          "background_save": true
        },
        "id": "6f_fIouZHtKw"
      },
      "outputs": [],
      "source": [
        "#Save the model for future re-use.\n",
        "model.save('maize-detector.h5')"
      ]
    },
    {
      "cell_type": "code",
      "execution_count": null,
      "metadata": {
        "colab": {
          "background_save": true
        },
        "id": "Y_bg9qJ_3h66"
      },
      "outputs": [],
      "source": []
    }
  ],
  "metadata": {
    "accelerator": "GPU",
    "colab": {
      "provenance": []
    },
    "gpuClass": "standard",
    "kernelspec": {
      "display_name": "Python 3",
      "name": "python3"
    },
    "language_info": {
      "name": "python"
    }
  },
  "nbformat": 4,
  "nbformat_minor": 0
}